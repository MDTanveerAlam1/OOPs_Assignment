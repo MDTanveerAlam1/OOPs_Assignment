{
  "nbformat": 4,
  "nbformat_minor": 0,
  "metadata": {
    "colab": {
      "provenance": [],
      "authorship_tag": "ABX9TyNkTS4I7ayY/V7PXL2/D5rF",
      "include_colab_link": true
    },
    "kernelspec": {
      "name": "python3",
      "display_name": "Python 3"
    },
    "language_info": {
      "name": "python"
    }
  },
  "cells": [
    {
      "cell_type": "markdown",
      "metadata": {
        "id": "view-in-github",
        "colab_type": "text"
      },
      "source": [
        "<a href=\"https://colab.research.google.com/github/MDTanveerAlam1/OOPs_Assignment/blob/main/OOPs_Assignment_module_5.ipynb\" target=\"_parent\"><img src=\"https://colab.research.google.com/assets/colab-badge.svg\" alt=\"Open In Colab\"/></a>"
      ]
    },
    {
      "cell_type": "code",
      "execution_count": 65,
      "metadata": {
        "id": "eVPMXx_GgfpO"
      },
      "outputs": [],
      "source": [
        "#                      <<  Question Number - 1  >>\n",
        "# What are the five key concepts of Object-Oriented Programming (OOP)?\n",
        "#                          <<  Answer  >>\n",
        "# 1. Abstraction.\n",
        "# 2. Encapsulation.\n",
        "# 3. Inheritance.\n",
        "# 4. Polymorphism.\n",
        "# 5. Composition.\n",
        "# Sure! Here are the five key concepts of Object-Oriented Programming (OOP) explained in simple, everyday language:\n",
        "\n",
        "#1. Classes and Objects >>\n",
        "\n",
        " #  Class >> Think of a class as a blueprint for a house. It has the design and details, but it's not a house itself.\n",
        "\n",
        " # Object >> An object is like an actual house built from the blueprint. Each house (object) can have different colors, sizes, and features, but they all follow the same basic design (class).\n",
        "\n",
        "#2. Encapsulation >>\n",
        "\n",
        " #  Imagine a pill capsule. It contains medicine inside, and you can't see or touch the medicine directly. Encapsulation is like that capsule, keeping the important data safe inside and only allowing certain actions to be done with it.\n",
        "\n",
        "#3. Inheritance >>\n",
        "\n",
        "  # Think of inheritance like a family tree. Just as children inherit traits from their parents, a new class can inherit properties and behaviors from an existing class. This means you don't have to start from scratch every time.\n",
        "\n",
        "#4. Polymorphism >>\n",
        "\n",
        " #  Polymorphism is like a Swiss Army knife. It has different tools (knife, scissors, screwdriver), but you can use it in various ways depending on what you need. Similarly, polymorphism allows one function to do different things based on the context.\n",
        "\n",
        "#5. Abstraction >>\n",
        "\n",
        "  # Abstraction is like using a TV remote. You press buttons to change channels or adjust the volume without needing to know how the TV works inside. It hides the complex details and shows only what you need to use.\n"
      ]
    },
    {
      "cell_type": "code",
      "source": [
        "#                      <<  Question Number - 2  >>\n",
        "# Write a Python class for a `Car` with attributes for `make`, `model`, and `year`. Include a method to display the car's information.\n",
        "#                         <<  Answer  >>\n",
        "\n",
        "class Car:\n",
        "  def __init__(self, make, model, year):\n",
        "    self.make = make\n",
        "    self.model = model\n",
        "    self.year = year\n",
        "c1 = Car(\"Toyota\", \"Corolla\", 2023)\n",
        "print(c1.make)\n",
        "print(c1.model)\n",
        "print(c1.year)"
      ],
      "metadata": {
        "colab": {
          "base_uri": "https://localhost:8080/"
        },
        "id": "6siSbY-2i1lK",
        "outputId": "1a8ffda3-a2bc-4314-cab1-418c82654dfb"
      },
      "execution_count": 66,
      "outputs": [
        {
          "output_type": "stream",
          "name": "stdout",
          "text": [
            "Toyota\n",
            "Corolla\n",
            "2023\n"
          ]
        }
      ]
    },
    {
      "cell_type": "code",
      "source": [
        "#                       << Question Number - 3  >>\n",
        "#  Explain the difference between instance methods and class methods. Provide an example of each.\n",
        "#                           << Answer  >>\n",
        "# Instance Methods >>\n",
        "''' >> These methods belong to an instance of a class. They can access and modify the instances attributes.\n",
        " >> They always take self as the first parameter, which refers to the instance calling the method. '''\n",
        "\n",
        "# Code Of Instance Method >>\n",
        "class Dog:\n",
        "    def __init__(self, name):\n",
        "        self.name = name\n",
        "\n",
        "    def bark(self):\n",
        "        return f\"{self.name} bark bhow bhow!\"\n",
        "\n",
        "my_dog = Dog(\"Buddy\")\n",
        "print(my_dog.bark())\n",
        "\n",
        "# Class Methods  >>\n",
        "''' >> These methods belong to the class itself, not any particular instance. They can access and modify class-level attributes.\n",
        " >> They use the @classmethod decorator and take cls as the first parameter, which refers to the class itself. '''\n",
        "\n",
        "# Code Of Class Method >>\n",
        "class Circle:\n",
        "    pi = 3.14\n",
        "\n",
        "    @classmethod\n",
        "    def area(cls, radius):\n",
        "        return cls.pi * radius * radius\n",
        "\n",
        "print(Circle.area(5))"
      ],
      "metadata": {
        "colab": {
          "base_uri": "https://localhost:8080/"
        },
        "id": "rKwHZZ7FlU70",
        "outputId": "648a89fa-3c1b-4b97-ec2b-068af21ebd5b"
      },
      "execution_count": 67,
      "outputs": [
        {
          "output_type": "stream",
          "name": "stdout",
          "text": [
            "Buddy bark bhow bhow!\n",
            "78.5\n"
          ]
        }
      ]
    },
    {
      "cell_type": "code",
      "source": [
        "#                                <<  Question number 4  >>\n",
        "# How does Python implement method overloading? Give an example\n",
        "#                                 <<  Answer  >>\n",
        "\n",
        "''' >> Python doesn’t support method overloading.\n",
        "  >> we can use default arguments to achieve a similar effect to method overloading.\n",
        "\n",
        "  eg >> '''\n",
        "class Calculator:\n",
        "    def add(self, a, b=0, c=0):\n",
        "        return a + b + c\n",
        "\n",
        "calc = Calculator()\n",
        "print(calc.add(2))\n",
        "print(calc.add(2, 3))\n",
        "print(calc.add(2, 3, 4))\n",
        "\n",
        "\n",
        "# Anither Example >>\n",
        "# >> we can also use *args to accept a variable number of arguments\n",
        "# >> *args allows the add method to accept any number of arguments.\n",
        "\n",
        "# >>  code\n",
        "class Calculator:\n",
        "    def add(self, *args):\n",
        "        return sum(args)\n",
        "\n",
        "calc = Calculator()\n",
        "print(calc.add(5))\n",
        "print(calc.add(5, 6))\n",
        "print(calc.add(5, 6, 7))"
      ],
      "metadata": {
        "id": "8FfTSYcVlUtv",
        "colab": {
          "base_uri": "https://localhost:8080/"
        },
        "outputId": "0a29cda3-05c2-4706-92e2-fd0c5ecf57f7"
      },
      "execution_count": 68,
      "outputs": [
        {
          "output_type": "stream",
          "name": "stdout",
          "text": [
            "2\n",
            "5\n",
            "9\n",
            "5\n",
            "11\n",
            "18\n"
          ]
        }
      ]
    },
    {
      "cell_type": "code",
      "source": [
        "#                        << Question Number 5  >>\n",
        "# What are the three types of access modifiers in Python? How are they denoted?\n",
        "#                             << Answer  >>\n",
        "\n",
        "#                   >>>    PROTECTED       <<<\n",
        "\n",
        "# << Protected varuable >> using (_) one underscore\n",
        "#  >> within the classs and its subclass, protected member can be access\n",
        "# CODE -- >\n",
        "class MyClass:\n",
        "    def __init__(self):\n",
        "        self._protected_var = \"I am protected\"\n",
        "class SubClass(MyClass):\n",
        "    def access_protected(self):\n",
        "        return self._protected_var\n",
        "obj = SubClass()\n",
        "print(obj.access_protected())\n",
        "\n",
        "\n",
        "\n",
        "#                 >>>      PRIVATE             <<<\n",
        "\n",
        "# << private variable >> using (__) double under score\n",
        "# >> the data and method is only accessible within its class\n",
        "# code -- >\n",
        "class Student:\n",
        "  def __init__(self, name, degree):\n",
        "    self.name = name\n",
        "    self.__degree = degree # private data\n",
        "\n",
        "  def show(self):\n",
        "    #accessing the private data member\n",
        "    print(\"name\", self.name,\"degree\", self.__degree)\n",
        "\n",
        "  def __private_method(self):\n",
        "    print(\"this is private method\")\n",
        "\n",
        "Ta = Student(\"Tanveer\", \"B.tech\")\n",
        "Ta._Student__private_method()\n",
        "\n",
        "\n",
        "#            >>>        PUBLIC           <<<\n",
        "\n",
        "# << public variable >> using () no under score\n",
        "# >> Can be accessed from anywhere, both inside and outside the class\n",
        "# Code -->\n",
        "class student:\n",
        "  def __init__(self, name, degree):\n",
        "    self.name = name\n",
        "    self.degree = degree\n",
        "\n",
        "stud = student(\"Tanveer\", \"B.tech\")\n",
        "stud.degree\n",
        "#stud.name(remove # and apply # on stud.degree than run this)\n",
        "\n"
      ],
      "metadata": {
        "id": "NEW13zL4lUfA",
        "colab": {
          "base_uri": "https://localhost:8080/",
          "height": 70
        },
        "outputId": "fc8d3d37-25b2-47a9-8b64-5f565a1119ea"
      },
      "execution_count": 69,
      "outputs": [
        {
          "output_type": "stream",
          "name": "stdout",
          "text": [
            "I am protected\n",
            "this is private method\n"
          ]
        },
        {
          "output_type": "execute_result",
          "data": {
            "text/plain": [
              "'B.tech'"
            ],
            "application/vnd.google.colaboratory.intrinsic+json": {
              "type": "string"
            }
          },
          "metadata": {},
          "execution_count": 69
        }
      ]
    },
    {
      "cell_type": "code",
      "source": [
        "#                        <<< Question Number 6  >>>\n",
        "# Describe the five types of inheritance in Python. Provide a simple example of multiple inheritance.\n",
        "#                        << Answer  >>\n",
        "#\n",
        "# 1. Single Inheritance >> A class inherits from a single parent class.\n",
        "class father:\n",
        "  def father_property(self):\n",
        "    print(\"father property\")\n",
        "class son(father):\n",
        "  def son_property(self):\n",
        "    print(\"son property\")\n",
        "\n",
        "obj = son()\n",
        "obj.father_property()\n",
        "obj.son_property()\n",
        "\n",
        "\n",
        "# 2. Multiple Inheritance >>  A class inherits from multiple parent classes.\n",
        "\n",
        "class ParentClass:\n",
        "  def method1(self):\n",
        "    print(\"Method 1 of parent class 1\")\n",
        "class ParentClass2:\n",
        "  def method2(self):\n",
        "    print(\"Method 2 of parent class 2\")\n",
        "\n",
        "class ChildClass(ParentClass,ParentClass2):\n",
        "  def child_method(self):\n",
        "    print(\"Method of child class\")\n",
        "\n",
        "\n",
        "obj = ChildClass()\n",
        "obj.method1()\n",
        "obj.method2()\n",
        "obj.child_method()\n",
        "\n",
        "# 3. Multilevel Inheritance >> A class inherits from a derived class, creating a hierarchy.\n",
        "\n",
        "class Grandparent:\n",
        "    def func1(self):\n",
        "        print(\"This function is in the grandparent class.\")\n",
        "\n",
        "class Parent(Grandparent):\n",
        "    def func2(self):\n",
        "        print(\"This function is in the parent class.\")\n",
        "\n",
        "class Child(Parent):\n",
        "    def func3(self):\n",
        "        print(\"This function is in the child class.\")\n",
        "\n",
        "obj = Child()\n",
        "obj.func1()\n",
        "obj.func2()\n",
        "obj.func3()\n",
        "\n",
        "\n",
        "# 4. Hierarchical Inheritance >> Multiple classes inherit from a single parent class.\n",
        "\n",
        "class vehicle:\n",
        "  def info(self):\n",
        "    print(\"This is vehicle\")\n",
        "class Car(vehicle):\n",
        "  def car_info(self,name):\n",
        "    print(\"Car name is:\",name)\n",
        "class Truck(vehicle):\n",
        "  def truck_info(self,name):\n",
        "    print(\"Truck name is:\",name)\n",
        "\n",
        "c1 = Car()\n",
        "c1.info()\n",
        "c1.car_info(\"Toyota\")\n",
        "\n",
        "t1 = Truck()\n",
        "t1.info()\n",
        "t1.truck_info(\"Tata\")\n",
        "\n",
        "\n",
        "# 5. Hybrid Inheritance >>  multiple types or combination of different inheritance\n",
        "\n",
        "class vehicle:\n",
        "  def vehicle_info(self):\n",
        "    print(\"Inside the vehicle class\")\n",
        "\n",
        "class Car(vehicle):\n",
        "  def car_info(self):\n",
        "    print(\"inside the car class\")\n",
        "\n",
        "class Truck(vehicle):\n",
        "  def truck_info(self):\n",
        "    print(\"inside the truck\", name)\n",
        "\n",
        "class SportsCar(Car, vehicle):\n",
        "  def sports_car_info(self):\n",
        "    print(\"inside the sports car class\")\n",
        "\n",
        "obj1 = SportsCar()\n",
        "obj1.car_info()\n",
        "obj1.vehicle_info()\n",
        "obj1.sports_car_info()"
      ],
      "metadata": {
        "id": "bUSYaq0ylUMZ",
        "colab": {
          "base_uri": "https://localhost:8080/"
        },
        "outputId": "609f3be4-92a2-4ee7-9849-3b22c8f1df09"
      },
      "execution_count": 70,
      "outputs": [
        {
          "output_type": "stream",
          "name": "stdout",
          "text": [
            "father property\n",
            "son property\n",
            "Method 1 of parent class 1\n",
            "Method 2 of parent class 2\n",
            "Method of child class\n",
            "This function is in the grandparent class.\n",
            "This function is in the parent class.\n",
            "This function is in the child class.\n",
            "This is vehicle\n",
            "Car name is: Toyota\n",
            "This is vehicle\n",
            "Truck name is: Tata\n",
            "inside the car class\n",
            "Inside the vehicle class\n",
            "inside the sports car class\n"
          ]
        }
      ]
    },
    {
      "cell_type": "code",
      "source": [
        "#                            <<< Question Number 7  >>>\n",
        "# What is the Method Resolution Order (MRO) in Python? How can you retrieve it programmatically?\n",
        "#                            << Answer  >>\n",
        "\n",
        "#  If you want to find out the order in which properties are inherited,\n",
        "#  you'd follow a specific path. MRO is like that path in Python classes.\n",
        "#  It defines the order in which classes are searched for methods when you call them on an object.\n",
        "\n",
        "\n",
        "class A:\n",
        "    def method(self):\n",
        "        print(\"Method in class A\")\n",
        "\n",
        "class B(A):\n",
        "    def method(self):\n",
        "        print(\"Method in class B\")\n",
        "\n",
        "class C(A):\n",
        "    def method(self):\n",
        "        print(\"Method in class C\")\n",
        "\n",
        "class D(B, C):\n",
        "    pass\n",
        "\n",
        "# Retrieve the MRO -- >\n",
        "print(D.__mro__)\n",
        "\n",
        "print(D.mro())\n",
        "\n",
        "#  Explanation  >>\n",
        "\n",
        "#  If you call method() on an object of class D, Python will first look for it in D,\n",
        "#  then B, then C, and finally A.\n",
        "#  It follows this order to determine which version of the method to use.\n",
        "#  This helps avoid ambiguity and ensures that the correct method is called based on the inheritance hierarchy"
      ],
      "metadata": {
        "colab": {
          "base_uri": "https://localhost:8080/"
        },
        "id": "1_mQRyIjI7SX",
        "outputId": "60fd28a3-8c2f-4c03-dc0b-11e3a5d5532e"
      },
      "execution_count": 71,
      "outputs": [
        {
          "output_type": "stream",
          "name": "stdout",
          "text": [
            "(<class '__main__.D'>, <class '__main__.B'>, <class '__main__.C'>, <class '__main__.A'>, <class 'object'>)\n",
            "[<class '__main__.D'>, <class '__main__.B'>, <class '__main__.C'>, <class '__main__.A'>, <class 'object'>]\n"
          ]
        }
      ]
    },
    {
      "cell_type": "code",
      "source": [
        "#                          <<< Question Number 8 >>>\n",
        "#  Create an abstract base class `Shape` with an abstract method `area()`. Then create two subclasses `Circle` and `Rectangle` that implement the `area()` method.\n",
        "#                           << Answer  >>\n",
        "#abstract class should always be subclassed\n",
        "# abstract class may contain methods that are just declared and not implemented in the abstract class itself , sub class are responsible for implementing these abstract methods\n",
        "\n",
        "import abc\n",
        "class Shape:\n",
        "  @abc.abstractmethod\n",
        "  def calculate_area(self):\n",
        "    pass\n",
        "class Circle(Shape):\n",
        "  def calculate_area(self,radius):\n",
        "    return 3.14*radius*radius\n",
        "class Rectangle(Shape):\n",
        "  def calculate_area(self,length,width):\n",
        "    return length*width\n",
        "\n",
        "rct = Rectangle()\n",
        "rct.calculate_area(10,20)"
      ],
      "metadata": {
        "colab": {
          "base_uri": "https://localhost:8080/"
        },
        "id": "LzcMr1vUI7KL",
        "outputId": "d9cf5b48-37f9-4d18-edcf-82bd91200e28"
      },
      "execution_count": 72,
      "outputs": [
        {
          "output_type": "execute_result",
          "data": {
            "text/plain": [
              "200"
            ]
          },
          "metadata": {},
          "execution_count": 72
        }
      ]
    },
    {
      "cell_type": "code",
      "source": [
        "cir = Circle()\n",
        "cir.calculate_area(5)"
      ],
      "metadata": {
        "colab": {
          "base_uri": "https://localhost:8080/"
        },
        "id": "SMcF-4MpLBBP",
        "outputId": "47c3856e-1a02-49a4-955c-c0f95b6d33f1"
      },
      "execution_count": 73,
      "outputs": [
        {
          "output_type": "execute_result",
          "data": {
            "text/plain": [
              "78.5"
            ]
          },
          "metadata": {},
          "execution_count": 73
        }
      ]
    },
    {
      "cell_type": "code",
      "source": [
        "#                          <<<  Question Number 9  >>>\n",
        "#  Demonstrate polymorphism by creating a function that can work with different shape objects to calculate and print their areas.\n",
        "#                          <<<  Answer  >>>\n",
        "\n",
        "# poly means many\n",
        "# morphosim means forms/states\n",
        "# refers to an object taking several forms depending on the methods/data\n",
        "\n",
        "class Shape:\n",
        "    def area(self):\n",
        "        pass\n",
        "\n",
        "class Rectangle(Shape):\n",
        "    def __init__(self, width, height):\n",
        "        self.width = width\n",
        "        self.height = height\n",
        "\n",
        "    def area(self):\n",
        "        return self.width * self.height\n",
        "\n",
        "class Circle(Shape):\n",
        "    def __init__(self, radius):\n",
        "        self.radius = radius\n",
        "\n",
        "    def area(self):\n",
        "        return 3.14 * self.radius * self.radius\n",
        "\n",
        "def print_area(shape):\n",
        "    print(f\"The area is > {shape.area()}\")\n",
        "\n",
        "# Create objects of different shapes\n",
        "rectangle = Rectangle(5, 10)\n",
        "circle = Circle(7)\n",
        "\n",
        "# another way to calculate the area\n",
        "print_area(rectangle)\n",
        "print_area(circle)\n",
        "\n",
        "\n"
      ],
      "metadata": {
        "colab": {
          "base_uri": "https://localhost:8080/"
        },
        "id": "AkQLBT7HLAuE",
        "outputId": "3856932f-980f-4e17-8bb9-85730494ba6a"
      },
      "execution_count": 74,
      "outputs": [
        {
          "output_type": "stream",
          "name": "stdout",
          "text": [
            "The area is > 50\n",
            "The area is > 153.86\n"
          ]
        }
      ]
    },
    {
      "cell_type": "code",
      "source": [
        "#                            <<< Question Number 10 >>>\n",
        "# Implement encapsulation in a `BankAccount` class with private attributes for `balance` and `account_number`. Include methods for deposit, withdrawal, and balance inquiry.\n",
        "#                         <<< Answer  >>>\n",
        "\n",
        "\n",
        "class BankAccount:\n",
        "  def __init__(self, account_number, initial_balance=0):\n",
        "      self.__account_number = account_number\n",
        "      self.__balance = initial_balance\n",
        "\n",
        "  def deposit(self, amount):\n",
        "      if amount > 0:\n",
        "          self.__balance += amount\n",
        "          print(f\"Deposited = {amount}  New balance = {self.__balance}\")\n",
        "      else:\n",
        "          print(\"Invalid deposit amount.\")\n",
        "\n",
        "  def withdraw(self, amount):\n",
        "      if amount > 0 and amount <= self.__balance:\n",
        "          self.__balance -= amount\n",
        "          print(f\"Withdrow = {amount} , New balanc = {self.__balance}\")\n",
        "      else:\n",
        "          print(\"Insufficient funds or invalid withdrawal amount.\")\n",
        "\n",
        "  def get_balance(self):\n",
        "    return self.__balance\n",
        "\n",
        "\n",
        "# usage\n",
        "my_account = BankAccount(\"9569877109\", 1000)\n",
        "my_account.deposit(500)\n",
        "my_account.withdraw(200)\n",
        "my_account.get_balance()"
      ],
      "metadata": {
        "colab": {
          "base_uri": "https://localhost:8080/"
        },
        "id": "EjTCAo02LAgX",
        "outputId": "ef8eeba3-2ef0-488c-e28e-23f9fb0210e3"
      },
      "execution_count": 75,
      "outputs": [
        {
          "output_type": "stream",
          "name": "stdout",
          "text": [
            "Deposited = 500  New balance = 1500\n",
            "Withdrow = 200 , New balanc = 1300\n"
          ]
        },
        {
          "output_type": "execute_result",
          "data": {
            "text/plain": [
              "1300"
            ]
          },
          "metadata": {},
          "execution_count": 75
        }
      ]
    },
    {
      "cell_type": "code",
      "source": [
        "#                               <<< Queston Number 11  >>>\n",
        "# Write a class that overrides the `__str__` and `__add__` magic methods. What will these methods allow you to do?\n",
        "#                            <<<  Answer    >>>\n",
        "\n",
        "#                   <<<    __str__    >>>\n",
        "\n",
        "class Student:\n",
        "  def __init__(self):\n",
        "    self.phone = 9569877109\n",
        "  def __str__(self): # __str__ will return a string representation of method\n",
        "    return \"This method overload the print statement of the object method\"\n",
        "\n",
        "Student()\n",
        "print(Student())\n",
        "\n",
        "\n",
        "#                 <<<    __add__     >>>\n",
        "\n",
        "class Point:\n",
        "  def __init__(self, x, y):\n",
        "    self.x = x\n",
        "    self.y = y\n",
        "  def __add__(self, other):\n",
        "    return Point(self.x + other.x, self.y + other.y)\n",
        "\n",
        "p1 = Point(1, 2)\n",
        "p2 = Point(3, 4)\n",
        "p3 = p1 + p2  # when you are using   + operator with point object , python internally calls __add__\n",
        "print(p3.x, p3.y)\n"
      ],
      "metadata": {
        "colab": {
          "base_uri": "https://localhost:8080/"
        },
        "id": "st5fpZyCQe8L",
        "outputId": "bde87087-415f-4945-fd3f-0610d361a972"
      },
      "execution_count": 76,
      "outputs": [
        {
          "output_type": "stream",
          "name": "stdout",
          "text": [
            "This method overload the print statement of the object method\n",
            "4 6\n"
          ]
        }
      ]
    },
    {
      "cell_type": "code",
      "source": [
        "#                       <<<  Question  12  >>>\n",
        "# Create a decorator that measures and prints the execution time of a function\n",
        "#                      <<<   Answer   >>>\n",
        "import time\n",
        "def timer_decorator(func):\n",
        "  def timer():\n",
        "    start = time.time()\n",
        "    func()\n",
        "    end = time.time()\n",
        "    print(\"The time for executing the code\", end-start)\n",
        "  return timer\n",
        "\n",
        "@timer_decorator\n",
        "def func_test():\n",
        "  print(10997+94566)\n",
        "\n",
        "func_test()"
      ],
      "metadata": {
        "colab": {
          "base_uri": "https://localhost:8080/"
        },
        "id": "0VZhoU3QV6JW",
        "outputId": "bc2cee86-ae86-45ac-9216-e98170345ce6"
      },
      "execution_count": 77,
      "outputs": [
        {
          "output_type": "stream",
          "name": "stdout",
          "text": [
            "105563\n",
            "The time for executing the code 5.936622619628906e-05\n"
          ]
        }
      ]
    },
    {
      "cell_type": "code",
      "source": [
        "#                            <<<   Question Number 13  >>>\n",
        "# Explain the concept of the Diamond Problem in multiple inheritance. How does Python resolve it?\n",
        "#                           <<<     Answer    >>>\n",
        "\n",
        "# >> it occurs when a class inherits fro 2 or more than 2 class >> will lead to ambiguity in execution of methods\n",
        "# To remove diamond problem >> python uses method resolution order(MRO) algorithm called c3 linearizaation\n",
        "#meaning that the class that is inheritant first in the derived class, that method will be called >> in this case method 1\n",
        "\n",
        "class ParentClass:\n",
        "  def method(self):\n",
        "    print(\"Method 1 of parent class 1\")\n",
        "class ParentClass2:\n",
        "  def method(self):\n",
        "    print(\"Method 2 of parent class 2\")\n",
        "class ChildClass(ParentClass,ParentClass2):\n",
        "  def child_method(self):\n",
        "    print(\"Method of child class\")\n",
        "\n",
        "obj1 = ChildClass()\n",
        "obj1.method()\n",
        "\n",
        "# Another diamond problem examples >>\n",
        "\n",
        "class A:\n",
        "  def method(self):\n",
        "    print(\"Method of class A\")\n",
        "class B(A):\n",
        "  def method(self):\n",
        "    print(\"Method of class B\")\n",
        "class C(A):\n",
        "  def method(self):\n",
        "    print(\"Method of class C\")\n",
        "class D(C,B):\n",
        "  pass\n",
        "\n",
        "obj2 = D()\n",
        "obj2.method()"
      ],
      "metadata": {
        "colab": {
          "base_uri": "https://localhost:8080/"
        },
        "id": "iWw3Tt42Y2ku",
        "outputId": "e03a8667-d9fa-499c-bd9a-40e5aaff586f"
      },
      "execution_count": 78,
      "outputs": [
        {
          "output_type": "stream",
          "name": "stdout",
          "text": [
            "Method 1 of parent class 1\n",
            "Method of class C\n"
          ]
        }
      ]
    },
    {
      "cell_type": "code",
      "source": [
        "#                          Question number 14\n",
        "#  Write a class method that keeps track of the number of instances created from a class.\n",
        "#                         Answer >>>\n",
        "\n",
        "class MyClass:\n",
        "    # Class variable to keep track of the number of instances\n",
        "    instance_count = 0\n",
        "\n",
        "    def __init__(self):\n",
        "        # Increment the counter each time a new instance is created\n",
        "        MyClass.instance_count += 1\n",
        "\n",
        "    @classmethod\n",
        "    def get_instance_count(cls):\n",
        "        # Class method to return the current count of instances\n",
        "        return cls.instance_count\n",
        "\n",
        "# Creating instances of MyClass\n",
        "obj1 = MyClass()\n",
        "obj2 = MyClass()\n",
        "obj3 = MyClass()\n",
        "\n",
        "# Getting the number of instances created\n",
        "print(MyClass.get_instance_count())\n"
      ],
      "metadata": {
        "colab": {
          "base_uri": "https://localhost:8080/"
        },
        "id": "rvu-dT1LaecB",
        "outputId": "3f6c162b-15da-4b09-e321-e59f0ebcb017"
      },
      "execution_count": 79,
      "outputs": [
        {
          "output_type": "stream",
          "name": "stdout",
          "text": [
            "3\n"
          ]
        }
      ]
    },
    {
      "cell_type": "code",
      "source": [
        "#                        <<<      Question Number 15   >>>\n",
        "# Implement a static method in a class that checks if a given year is a leap year.\n",
        "#                        <<<      Answer     >>>\n",
        "class YearChecker:\n",
        "    @staticmethod\n",
        "    def is_leap_year(year): # A year is a leap year if it is divisible by 4, it is also divisible by 400\n",
        "        if (year % 4 == 0 and year % 100 != 0) or (year % 400 == 0):\n",
        "            return True\n",
        "        else:\n",
        "            return False\n",
        "\n",
        "# usage\n",
        "print(YearChecker.is_leap_year(2020))\n",
        "print(YearChecker.is_leap_year(1900))\n",
        "print(YearChecker.is_leap_year(2000))"
      ],
      "metadata": {
        "colab": {
          "base_uri": "https://localhost:8080/"
        },
        "id": "-q9fnZu-cJct",
        "outputId": "9f8d6470-7755-4e06-9873-ef23315d566d"
      },
      "execution_count": 80,
      "outputs": [
        {
          "output_type": "stream",
          "name": "stdout",
          "text": [
            "True\n",
            "False\n",
            "True\n"
          ]
        }
      ]
    },
    {
      "cell_type": "code",
      "source": [],
      "metadata": {
        "id": "2-9EgSBjdCrK"
      },
      "execution_count": null,
      "outputs": []
    }
  ]
}